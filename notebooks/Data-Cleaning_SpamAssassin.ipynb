{
 "cells": [
  {
   "cell_type": "markdown",
   "id": "74738e2d",
   "metadata": {},
   "source": [
    "# SpamAssassin Public Mail Corpus\n",
    "\n",
    "https://spamassassin.apache.org/old/publiccorpus/readme.html"
   ]
  },
  {
   "cell_type": "markdown",
   "id": "26d3833a",
   "metadata": {},
   "source": [
    "# Imports"
   ]
  },
  {
   "cell_type": "code",
   "execution_count": 1,
   "id": "451ed081",
   "metadata": {},
   "outputs": [],
   "source": [
    "import email\n",
    "import os\n",
    "import tarfile\n",
    "\n",
    "import numpy as np\n",
    "import pandas as pd\n",
    "\n",
    "from IPython.display import display"
   ]
  },
  {
   "cell_type": "markdown",
   "id": "f8b31401",
   "metadata": {},
   "source": [
    "# Parameters"
   ]
  },
  {
   "cell_type": "code",
   "execution_count": 2,
   "id": "ee00dc00",
   "metadata": {},
   "outputs": [],
   "source": [
    "data_dirname = \"../SpamAssassin/original\"\n",
    "results_dirname = \"../SpamAssassin\"\n",
    "results_basename = \"data.csv.gz\""
   ]
  },
  {
   "cell_type": "markdown",
   "id": "b4fd5f2a",
   "metadata": {},
   "source": [
    "# Data Cleaning"
   ]
  },
  {
   "cell_type": "code",
   "execution_count": 3,
   "id": "be8d0cd1",
   "metadata": {
    "scrolled": false
   },
   "outputs": [
    {
     "name": "stdout",
     "output_type": "stream",
     "text": [
      "../SpamAssassin/original/20030228_easy_ham.tar.bz2\n",
      "../SpamAssassin/original/20030228_easy_ham_2.tar.bz2\n",
      "../SpamAssassin/original/20030228_spam.tar.bz2\n",
      "../SpamAssassin/original/20050311_spam_2.tar.bz2\n",
      "../SpamAssassin/original/20030228_hard_ham.tar.bz2\n"
     ]
    },
    {
     "data": {
      "text/html": [
       "<div>\n",
       "<style scoped>\n",
       "    .dataframe tbody tr th:only-of-type {\n",
       "        vertical-align: middle;\n",
       "    }\n",
       "\n",
       "    .dataframe tbody tr th {\n",
       "        vertical-align: top;\n",
       "    }\n",
       "\n",
       "    .dataframe thead th {\n",
       "        text-align: right;\n",
       "    }\n",
       "</style>\n",
       "<table border=\"1\" class=\"dataframe\">\n",
       "  <thead>\n",
       "    <tr style=\"text-align: right;\">\n",
       "      <th></th>\n",
       "      <th>text</th>\n",
       "      <th>spam</th>\n",
       "    </tr>\n",
       "  </thead>\n",
       "  <tbody>\n",
       "    <tr>\n",
       "      <th>easy_ham/00001.7c53336b37003a9286aba55d2945844c</th>\n",
       "      <td>Date:        Wed, 21 Aug 2002 10:54:46 -05...</td>\n",
       "      <td>False</td>\n",
       "    </tr>\n",
       "    <tr>\n",
       "      <th>easy_ham/00002.9c4069e25e1ef370c078db7ee85ff9ac</th>\n",
       "      <td>Martin A posted:\\nTassos Papadopoulos, the Gre...</td>\n",
       "      <td>False</td>\n",
       "    </tr>\n",
       "    <tr>\n",
       "      <th>easy_ham/00003.860e3c3cee1b42ead714c5c874fe25f7</th>\n",
       "      <td>Man Threatens Explosion In Moscow \\n\\nThursday...</td>\n",
       "      <td>False</td>\n",
       "    </tr>\n",
       "    <tr>\n",
       "      <th>easy_ham/00004.864220c5b6930b209cc287c361c99af1</th>\n",
       "      <td>Klez: The Virus That Won't Die\\n \\nAlready the...</td>\n",
       "      <td>False</td>\n",
       "    </tr>\n",
       "    <tr>\n",
       "      <th>easy_ham/00005.bf27cdeaf0b8c4647ecd61b1d09da613</th>\n",
       "      <td>&gt;  in adding cream to spaghetti carbonara, whi...</td>\n",
       "      <td>False</td>\n",
       "    </tr>\n",
       "    <tr>\n",
       "      <th>...</th>\n",
       "      <td>...</td>\n",
       "      <td>...</td>\n",
       "    </tr>\n",
       "    <tr>\n",
       "      <th>hard_ham/00247.42534d5df0700cb2adf240556c539947</th>\n",
       "      <td>___           ___           ...</td>\n",
       "      <td>False</td>\n",
       "    </tr>\n",
       "    <tr>\n",
       "      <th>hard_ham/00248.9599b06d2d2c08b57ff1de06316d66c0</th>\n",
       "      <td>IN THIS ISSUE:\\n\\n01. Readers write\\n02. Exten...</td>\n",
       "      <td>False</td>\n",
       "    </tr>\n",
       "    <tr>\n",
       "      <th>hard_ham/00249.b9183324a9726e8b6c8779045a921243</th>\n",
       "      <td>\\nSay goodbye to paper.\\n\\nDear GlobalSCAPE Cu...</td>\n",
       "      <td>False</td>\n",
       "    </tr>\n",
       "    <tr>\n",
       "      <th>hard_ham/00250.c7603b27a45284d12b49adf767b2b6fa</th>\n",
       "      <td>&lt;head&gt;\\n&lt;title&gt;FC Sporadic&lt;/title&gt;\\n&lt;style&gt;\\nT...</td>\n",
       "      <td>False</td>\n",
       "    </tr>\n",
       "    <tr>\n",
       "      <th>hard_ham/00005.34bcaad58ad5f598f5d6af8cfa0c0465</th>\n",
       "      <td>______________________________________________...</td>\n",
       "      <td>False</td>\n",
       "    </tr>\n",
       "  </tbody>\n",
       "</table>\n",
       "<p>6051 rows × 2 columns</p>\n",
       "</div>"
      ],
      "text/plain": [
       "                                                                                              text  \\\n",
       "easy_ham/00001.7c53336b37003a9286aba55d2945844c      Date:        Wed, 21 Aug 2002 10:54:46 -05...   \n",
       "easy_ham/00002.9c4069e25e1ef370c078db7ee85ff9ac  Martin A posted:\\nTassos Papadopoulos, the Gre...   \n",
       "easy_ham/00003.860e3c3cee1b42ead714c5c874fe25f7  Man Threatens Explosion In Moscow \\n\\nThursday...   \n",
       "easy_ham/00004.864220c5b6930b209cc287c361c99af1  Klez: The Virus That Won't Die\\n \\nAlready the...   \n",
       "easy_ham/00005.bf27cdeaf0b8c4647ecd61b1d09da613  >  in adding cream to spaghetti carbonara, whi...   \n",
       "...                                                                                            ...   \n",
       "hard_ham/00247.42534d5df0700cb2adf240556c539947                    ___           ___           ...   \n",
       "hard_ham/00248.9599b06d2d2c08b57ff1de06316d66c0  IN THIS ISSUE:\\n\\n01. Readers write\\n02. Exten...   \n",
       "hard_ham/00249.b9183324a9726e8b6c8779045a921243  \\nSay goodbye to paper.\\n\\nDear GlobalSCAPE Cu...   \n",
       "hard_ham/00250.c7603b27a45284d12b49adf767b2b6fa  <head>\\n<title>FC Sporadic</title>\\n<style>\\nT...   \n",
       "hard_ham/00005.34bcaad58ad5f598f5d6af8cfa0c0465  ______________________________________________...   \n",
       "\n",
       "                                                  spam  \n",
       "easy_ham/00001.7c53336b37003a9286aba55d2945844c  False  \n",
       "easy_ham/00002.9c4069e25e1ef370c078db7ee85ff9ac  False  \n",
       "easy_ham/00003.860e3c3cee1b42ead714c5c874fe25f7  False  \n",
       "easy_ham/00004.864220c5b6930b209cc287c361c99af1  False  \n",
       "easy_ham/00005.bf27cdeaf0b8c4647ecd61b1d09da613  False  \n",
       "...                                                ...  \n",
       "hard_ham/00247.42534d5df0700cb2adf240556c539947  False  \n",
       "hard_ham/00248.9599b06d2d2c08b57ff1de06316d66c0  False  \n",
       "hard_ham/00249.b9183324a9726e8b6c8779045a921243  False  \n",
       "hard_ham/00250.c7603b27a45284d12b49adf767b2b6fa  False  \n",
       "hard_ham/00005.34bcaad58ad5f598f5d6af8cfa0c0465  False  \n",
       "\n",
       "[6051 rows x 2 columns]"
      ]
     },
     "metadata": {},
     "output_type": "display_data"
    }
   ],
   "source": [
    "def extract_email_body(fp, name=None):\n",
    "    message = email.message_from_binary_file(fp)\n",
    "    for part in message.walk():\n",
    "        content_type = part.get_content_type()\n",
    "        content_disposition = str(part.get(\"Content-Disposition\"))\n",
    "        if content_type == \"text/plain\" and \"attachment\" not in content_disposition:\n",
    "            return part.get_payload()\n",
    "\n",
    "df_list = list()\n",
    "for basename in os.listdir(data_dirname):\n",
    "    if basename.endswith(\".tar.bz2\"):\n",
    "        filename = os.path.join(data_dirname, basename)\n",
    "        print(filename)\n",
    "        with tarfile.open(filename, \"r:bz2\") as tar:\n",
    "            data = list()\n",
    "            index = list()\n",
    "            for member in tar:\n",
    "                fp = tar.extractfile(member)\n",
    "                if fp is not None:\n",
    "                    index.append(member.name)\n",
    "                    data.append( extract_email_body(fp) )\n",
    "            df_list.append( pd.DataFrame(data, columns=[\"text\"], index=index) )\n",
    "data_df = pd.concat(df_list).fillna(value=np.nan)\n",
    "data_df[\"spam\"] = data_df.index.map(\n",
    "    lambda index: \"spam\" in index\n",
    ")\n",
    "\n",
    "with pd.option_context(\"display.max_rows\", 10, \"display.max_columns\", None):\n",
    "    display(data_df)"
   ]
  },
  {
   "cell_type": "markdown",
   "id": "fb325f4a",
   "metadata": {},
   "source": [
    "# Save Data"
   ]
  },
  {
   "cell_type": "code",
   "execution_count": 4,
   "id": "ed8d95c6",
   "metadata": {},
   "outputs": [
    {
     "name": "stdout",
     "output_type": "stream",
     "text": [
      "../SpamAssassin/data.csv.gz\n"
     ]
    }
   ],
   "source": [
    "filename = os.path.join(results_dirname, results_basename)\n",
    "print(filename)\n",
    "data_df.to_csv(filename, index=False, compression=\"gzip\")"
   ]
  }
 ],
 "metadata": {
  "kernelspec": {
   "display_name": "Python 3",
   "language": "python",
   "name": "python3"
  },
  "language_info": {
   "codemirror_mode": {
    "name": "ipython",
    "version": 3
   },
   "file_extension": ".py",
   "mimetype": "text/x-python",
   "name": "python",
   "nbconvert_exporter": "python",
   "pygments_lexer": "ipython3",
   "version": "3.6.8"
  }
 },
 "nbformat": 4,
 "nbformat_minor": 5
}
