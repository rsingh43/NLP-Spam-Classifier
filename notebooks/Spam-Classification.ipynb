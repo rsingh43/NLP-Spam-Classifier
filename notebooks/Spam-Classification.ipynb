{
 "cells": [
  {
   "cell_type": "markdown",
   "id": "03c1ccf2",
   "metadata": {},
   "source": [
    "# Imports"
   ]
  },
  {
   "cell_type": "code",
   "execution_count": 1,
   "id": "efb75a5b",
   "metadata": {},
   "outputs": [],
   "source": [
    "import os\n",
    "\n",
    "import matplotlib as mpl\n",
    "from matplotlib import pyplot as plt\n",
    "import numpy as np\n",
    "import pandas as pd\n",
    "import sklearn.feature_extraction.text\n",
    "import sklearn.feature_selection\n",
    "import sklearn.linear_model\n",
    "\n",
    "import sklearn.metrics\n",
    "\n",
    "import sklearn.model_selection\n",
    "import sklearn.pipeline\n",
    "\n",
    "\n",
    "from IPython.display import display"
   ]
  },
  {
   "cell_type": "markdown",
   "id": "c5057f94",
   "metadata": {},
   "source": [
    "# Parameters"
   ]
  },
  {
   "cell_type": "code",
   "execution_count": 2,
   "id": "e8b24803",
   "metadata": {},
   "outputs": [],
   "source": [
    "data_dirname = \"../SMS-Spam\"\n",
    "data_basename = \"data.csv.gz\""
   ]
  },
  {
   "cell_type": "markdown",
   "id": "749c94db",
   "metadata": {},
   "source": [
    "# Helper Functions"
   ]
  },
  {
   "cell_type": "code",
   "execution_count": 3,
   "id": "9caa74e7",
   "metadata": {},
   "outputs": [],
   "source": [
    "def evaluate_classifier(classifier, X_train, X_test, y_train, y_test):\n",
    "    cv_results = sklearn.model_selection.cross_validate(\n",
    "        classifier,\n",
    "        X_train,\n",
    "        y_train,\n",
    "        cv=10,\n",
    "        scoring=[\"accuracy\", \"precision\", \"recall\", \"f1\", \"roc_auc\"],\n",
    "        return_train_score=True,\n",
    "    )\n",
    "    \n",
    "    results_dict = dict()\n",
    "    for key,value in cv_results.items():\n",
    "        tokens = key.split(\"_\")\n",
    "        if tokens[0] in [\"train\", \"test\"]:\n",
    "            results_dict.setdefault(\n",
    "                tokens[0], dict()\n",
    "            )[\"_\".join(tokens[1:])] = np.mean(value)\n",
    "    print(classifier)\n",
    "    with pd.option_context(\"display.max_rows\", None, \"display.max_columns\", None):\n",
    "        display(\n",
    "            pd.DataFrame(results_dict)\n",
    "        )"
   ]
  },
  {
   "cell_type": "markdown",
   "id": "f948cbeb",
   "metadata": {},
   "source": [
    "# Data Loading"
   ]
  },
  {
   "cell_type": "code",
   "execution_count": 4,
   "id": "1af8e00f",
   "metadata": {},
   "outputs": [
    {
     "name": "stdout",
     "output_type": "stream",
     "text": [
      "<class 'pandas.core.frame.DataFrame'>\n",
      "Int64Index: 5572 entries, 0 to 5571\n",
      "Data columns (total 2 columns):\n",
      " #   Column  Non-Null Count  Dtype \n",
      "---  ------  --------------  ----- \n",
      " 0   text    5572 non-null   object\n",
      " 1   spam    5572 non-null   bool  \n",
      "dtypes: bool(1), object(1)\n",
      "memory usage: 92.5+ KB\n"
     ]
    },
    {
     "data": {
      "text/html": [
       "<div>\n",
       "<style scoped>\n",
       "    .dataframe tbody tr th:only-of-type {\n",
       "        vertical-align: middle;\n",
       "    }\n",
       "\n",
       "    .dataframe tbody tr th {\n",
       "        vertical-align: top;\n",
       "    }\n",
       "\n",
       "    .dataframe thead th {\n",
       "        text-align: right;\n",
       "    }\n",
       "</style>\n",
       "<table border=\"1\" class=\"dataframe\">\n",
       "  <thead>\n",
       "    <tr style=\"text-align: right;\">\n",
       "      <th></th>\n",
       "      <th>text</th>\n",
       "      <th>spam</th>\n",
       "    </tr>\n",
       "  </thead>\n",
       "  <tbody>\n",
       "    <tr>\n",
       "      <th>0</th>\n",
       "      <td>Go until jurong point, crazy.. Available only in bugis n great world la e buffet... Cine there got amore wat...</td>\n",
       "      <td>False</td>\n",
       "    </tr>\n",
       "    <tr>\n",
       "      <th>1</th>\n",
       "      <td>Ok lar... Joking wif u oni...</td>\n",
       "      <td>False</td>\n",
       "    </tr>\n",
       "    <tr>\n",
       "      <th>2</th>\n",
       "      <td>Free entry in 2 a wkly comp to win FA Cup final tkts 21st May 2005. Text FA to 87121 to receive entry question(std txt rate)T&amp;C's apply 08452810075over18's</td>\n",
       "      <td>True</td>\n",
       "    </tr>\n",
       "    <tr>\n",
       "      <th>3</th>\n",
       "      <td>U dun say so early hor... U c already then say...</td>\n",
       "      <td>False</td>\n",
       "    </tr>\n",
       "    <tr>\n",
       "      <th>4</th>\n",
       "      <td>Nah I don't think he goes to usf, he lives around here though</td>\n",
       "      <td>False</td>\n",
       "    </tr>\n",
       "    <tr>\n",
       "      <th>...</th>\n",
       "      <td>...</td>\n",
       "      <td>...</td>\n",
       "    </tr>\n",
       "    <tr>\n",
       "      <th>5567</th>\n",
       "      <td>This is the 2nd time we have tried 2 contact u. U have won the å£750 Pound prize. 2 claim is easy, call 087187272008 NOW1! Only 10p per minute. BT-national-rate.</td>\n",
       "      <td>True</td>\n",
       "    </tr>\n",
       "    <tr>\n",
       "      <th>5568</th>\n",
       "      <td>Will Ì_ b going to esplanade fr home?</td>\n",
       "      <td>False</td>\n",
       "    </tr>\n",
       "    <tr>\n",
       "      <th>5569</th>\n",
       "      <td>Pity, * was in mood for that. So...any other suggestions?</td>\n",
       "      <td>False</td>\n",
       "    </tr>\n",
       "    <tr>\n",
       "      <th>5570</th>\n",
       "      <td>The guy did some bitching but I acted like i'd be interested in buying something else next week and he gave it to us for free</td>\n",
       "      <td>False</td>\n",
       "    </tr>\n",
       "    <tr>\n",
       "      <th>5571</th>\n",
       "      <td>Rofl. Its true to its name</td>\n",
       "      <td>False</td>\n",
       "    </tr>\n",
       "  </tbody>\n",
       "</table>\n",
       "<p>5572 rows × 2 columns</p>\n",
       "</div>"
      ],
      "text/plain": [
       "                                                                                                                                                                   text  \\\n",
       "0                                                       Go until jurong point, crazy.. Available only in bugis n great world la e buffet... Cine there got amore wat...   \n",
       "1                                                                                                                                         Ok lar... Joking wif u oni...   \n",
       "2           Free entry in 2 a wkly comp to win FA Cup final tkts 21st May 2005. Text FA to 87121 to receive entry question(std txt rate)T&C's apply 08452810075over18's   \n",
       "3                                                                                                                     U dun say so early hor... U c already then say...   \n",
       "4                                                                                                         Nah I don't think he goes to usf, he lives around here though   \n",
       "...                                                                                                                                                                 ...   \n",
       "5567  This is the 2nd time we have tried 2 contact u. U have won the å£750 Pound prize. 2 claim is easy, call 087187272008 NOW1! Only 10p per minute. BT-national-rate.   \n",
       "5568                                                                                                                              Will Ì_ b going to esplanade fr home?   \n",
       "5569                                                                                                          Pity, * was in mood for that. So...any other suggestions?   \n",
       "5570                                      The guy did some bitching but I acted like i'd be interested in buying something else next week and he gave it to us for free   \n",
       "5571                                                                                                                                         Rofl. Its true to its name   \n",
       "\n",
       "       spam  \n",
       "0     False  \n",
       "1     False  \n",
       "2      True  \n",
       "3     False  \n",
       "4     False  \n",
       "...     ...  \n",
       "5567   True  \n",
       "5568  False  \n",
       "5569  False  \n",
       "5570  False  \n",
       "5571  False  \n",
       "\n",
       "[5572 rows x 2 columns]"
      ]
     },
     "metadata": {},
     "output_type": "display_data"
    }
   ],
   "source": [
    "filename = os.path.join(data_dirname, data_basename)\n",
    "raw_df = pd.read_csv(filename, compression=\"gzip\").dropna()\n",
    "\n",
    "raw_df.info(verbose=True)\n",
    "with pd.option_context(\"display.max_rows\", 10, \"display.max_columns\", None, \"display.max_colwidth\", None):\n",
    "    display(\n",
    "        raw_df\n",
    "    )"
   ]
  },
  {
   "cell_type": "markdown",
   "id": "7f757068",
   "metadata": {},
   "source": [
    "# Train-Test Split"
   ]
  },
  {
   "cell_type": "code",
   "execution_count": 5,
   "id": "b9e46cc1",
   "metadata": {},
   "outputs": [
    {
     "data": {
      "image/png": "[encoded data removed]",
      "text/plain": [
       "<Figure size 576x360 with 2 Axes>"
      ]
     },
     "metadata": {
      "needs_background": "light"
     },
     "output_type": "display_data"
    }
   ],
   "source": [
    "count_df = raw_df[\"spam\"].value_counts()\n",
    "percent_df = raw_df[\"spam\"].value_counts(normalize=True).mul(100)\n",
    "\n",
    "fig,ax = plt.subplots(figsize=(8,5))\n",
    "count_df.plot(kind=\"bar\", ax=ax)\n",
    "ax.set_xticklabels(count_df.index, rotation=45, ha=\"right\")\n",
    "ax.set_ylabel(\"Count\")\n",
    "ax = ax.twinx()\n",
    "percent_df.plot(kind=\"bar\", ax=ax)\n",
    "ax.set_ylabel(\"Percentage\")\n",
    "ax.set_title(\"Spam\")\n",
    "plt.show()\n",
    "\n",
    "XX = raw_df[\"text\"].values\n",
    "yy = raw_df[\"spam\"].values\n",
    "\n",
    "X_train, X_test, y_train, y_test = sklearn.model_selection.train_test_split(\n",
    "    XX,\n",
    "    yy,\n",
    "    stratify=yy,\n",
    "    random_state=0\n",
    ")"
   ]
  },
  {
   "cell_type": "markdown",
   "id": "4a2d1b8e",
   "metadata": {},
   "source": [
    "# The CountVectorizer\n",
    "\n",
    "The [`CountVectorizer`](https://scikit-learn.org/stable/modules/generated/sklearn.feature_extraction.text.CountVectorizer.html) can be used to convert a collection of text documents into a [document-term matrix](https://en.wikipedia.org/wiki/Document-term_matrix). The rows of a document-term matrix represent documents (samples), while the columns represent terms (features). The $a_{i,j}$ entry in a document-term matrix represents the frequence of term $j$ in document $i$. The terms, which are single words or sequences of words (i.e., [n-grams](https://en.wikipedia.org/wiki/N-gram)),  can either be learned from the training data or provided in the `CountVectorizer`'s constructor through the `vocabulary` parameter.\n",
    "\n",
    "Let's use the `CountVectorizer` to learn a vocabulary dictionary of all tokens in the raw documents."
   ]
  },
  {
   "cell_type": "code",
   "execution_count": 6,
   "id": "7a78b954",
   "metadata": {
    "scrolled": false
   },
   "outputs": [
    {
     "name": "stdout",
     "output_type": "stream",
     "text": [
      "9226 vocabulary terms extracted\n",
      "['00' '000' '000pes' ... 'åÒIt' 'åÔMORROW' 'åÔrents']\n"
     ]
    }
   ],
   "source": [
    "count_vectorizer = sklearn.feature_extraction.text.CountVectorizer(lowercase=False)\n",
    "count_vectorizer.fit(X_train)\n",
    "vocabulary = np.asarray(count_vectorizer.get_feature_names())\n",
    "\n",
    "print(f\"{len(vocabulary)} vocabulary terms extracted\")\n",
    "print(vocabulary)"
   ]
  },
  {
   "cell_type": "markdown",
   "id": "8c02750c",
   "metadata": {},
   "source": [
    "The [`transform`](https://scikit-learn.org/stable/modules/generated/sklearn.feature_extraction.text.CountVectorizer.html#sklearn.feature_extraction.text.CountVectorizer.transform) method is used to extract token counts from raw text documents using the fitted vocabulary. It returns a sparse matrix, which can be converted to a [`numpy.ndarray`](https://numpy.org/doc/stable/reference/generated/numpy.ndarray.html) using the `toarray` method.\n",
    "\n",
    "Let’s find the top 10 words appearing most frequently in the training data and display some summary statistics about them."
   ]
  },
  {
   "cell_type": "code",
   "execution_count": 7,
   "id": "841fe912",
   "metadata": {},
   "outputs": [
    {
     "data": {
      "text/html": [
       "<div>\n",
       "<style scoped>\n",
       "    .dataframe tbody tr th:only-of-type {\n",
       "        vertical-align: middle;\n",
       "    }\n",
       "\n",
       "    .dataframe tbody tr th {\n",
       "        vertical-align: top;\n",
       "    }\n",
       "\n",
       "    .dataframe thead th {\n",
       "        text-align: right;\n",
       "    }\n",
       "</style>\n",
       "<table border=\"1\" class=\"dataframe\">\n",
       "  <thead>\n",
       "    <tr style=\"text-align: right;\">\n",
       "      <th></th>\n",
       "      <th>to</th>\n",
       "      <th>you</th>\n",
       "      <th>the</th>\n",
       "      <th>and</th>\n",
       "      <th>in</th>\n",
       "      <th>is</th>\n",
       "      <th>me</th>\n",
       "      <th>my</th>\n",
       "      <th>for</th>\n",
       "      <th>it</th>\n",
       "    </tr>\n",
       "  </thead>\n",
       "  <tbody>\n",
       "    <tr>\n",
       "      <th>Min.</th>\n",
       "      <td>0.000000</td>\n",
       "      <td>0.000000</td>\n",
       "      <td>0.000000</td>\n",
       "      <td>0.000000</td>\n",
       "      <td>0.000000</td>\n",
       "      <td>0.000000</td>\n",
       "      <td>0.000000</td>\n",
       "      <td>0.000000</td>\n",
       "      <td>0.000000</td>\n",
       "      <td>0.000000</td>\n",
       "    </tr>\n",
       "    <tr>\n",
       "      <th>Max.</th>\n",
       "      <td>8.000000</td>\n",
       "      <td>11.000000</td>\n",
       "      <td>7.000000</td>\n",
       "      <td>3.000000</td>\n",
       "      <td>3.000000</td>\n",
       "      <td>5.000000</td>\n",
       "      <td>5.000000</td>\n",
       "      <td>5.000000</td>\n",
       "      <td>5.000000</td>\n",
       "      <td>12.000000</td>\n",
       "    </tr>\n",
       "    <tr>\n",
       "      <th>Mean</th>\n",
       "      <td>0.385499</td>\n",
       "      <td>0.327830</td>\n",
       "      <td>0.213209</td>\n",
       "      <td>0.159608</td>\n",
       "      <td>0.147404</td>\n",
       "      <td>0.146686</td>\n",
       "      <td>0.136396</td>\n",
       "      <td>0.116056</td>\n",
       "      <td>0.115578</td>\n",
       "      <td>0.107921</td>\n",
       "    </tr>\n",
       "    <tr>\n",
       "      <th>S.D.</th>\n",
       "      <td>0.703113</td>\n",
       "      <td>0.724057</td>\n",
       "      <td>0.522989</td>\n",
       "      <td>0.444191</td>\n",
       "      <td>0.397768</td>\n",
       "      <td>0.429550</td>\n",
       "      <td>0.407590</td>\n",
       "      <td>0.395207</td>\n",
       "      <td>0.368403</td>\n",
       "      <td>0.416324</td>\n",
       "    </tr>\n",
       "  </tbody>\n",
       "</table>\n",
       "</div>"
      ],
      "text/plain": [
       "            to        you       the       and        in        is        me  \\\n",
       "Min.  0.000000   0.000000  0.000000  0.000000  0.000000  0.000000  0.000000   \n",
       "Max.  8.000000  11.000000  7.000000  3.000000  3.000000  5.000000  5.000000   \n",
       "Mean  0.385499   0.327830  0.213209  0.159608  0.147404  0.146686  0.136396   \n",
       "S.D.  0.703113   0.724057  0.522989  0.444191  0.397768  0.429550  0.407590   \n",
       "\n",
       "            my       for         it  \n",
       "Min.  0.000000  0.000000   0.000000  \n",
       "Max.  5.000000  5.000000  12.000000  \n",
       "Mean  0.116056  0.115578   0.107921  \n",
       "S.D.  0.395207  0.368403   0.416324  "
      ]
     },
     "metadata": {},
     "output_type": "display_data"
    },
    {
     "data": {
      "image/png": "[encoded data removed]",
      "text/plain": [
       "<Figure size 576x360 with 1 Axes>"
      ]
     },
     "metadata": {
      "needs_background": "light"
     },
     "output_type": "display_data"
    }
   ],
   "source": [
    "doc_term_matrix = count_vectorizer.transform(X_train).toarray()\n",
    "\n",
    "frequencies = doc_term_matrix.sum(axis=0)\n",
    "idx = np.argsort(-frequencies)[:10]\n",
    "\n",
    "vmin = doc_term_matrix.min(axis=0)\n",
    "vmax = doc_term_matrix.max(axis=0)\n",
    "mean = doc_term_matrix.mean(axis=0)\n",
    "std = doc_term_matrix.std(axis=0)\n",
    "\n",
    "stats_df = pd.DataFrame(\n",
    "    [vmin, vmax, mean, std],\n",
    "    columns=vocabulary,\n",
    "    index=[\"Min.\", \"Max.\", \"Mean\", \"S.D.\"]\n",
    ")\n",
    "with pd.option_context(\"display.max_rows\", None, \"display.max_columns\", 20):\n",
    "    display(stats_df[vocabulary[idx]])\n",
    "\n",
    "fig,ax = plt.subplots(figsize=(8,5))\n",
    "stats_df[vocabulary[idx]].boxplot(ax=ax)\n",
    "ax.set_xticklabels(vocabulary[idx], rotation=45, ha=\"right\")\n",
    "ax.grid(False)\n",
    "ax.set_title(f\"Distributions of the {len(idx)} Most Frequent Features\")\n",
    "plt.show()"
   ]
  },
  {
   "cell_type": "markdown",
   "id": "2cc42f4a",
   "metadata": {},
   "source": [
    "# Feature Selection\n",
    "\n",
    "The `CountVectorizer` produces a lot of features, especially when n-grams are extracted. Many of the features do not provide very much information, such as the top ten features seen above, and too many features can cause our model to overfit. We can use a chi-square test to determine how strong the dependency is between the various features and the target class. By leveraging the [`SelectKBest`](sklearn.feature_selection.SelectKBest) class, we can select the top $k$ features according to the chi-square test statistic.\n",
    "\n",
    "Let's find the top 10 features, according to the chi-square test, using `SelectKBest`. "
   ]
  },
  {
   "cell_type": "code",
   "execution_count": 8,
   "id": "642c9e2f",
   "metadata": {},
   "outputs": [
    {
     "data": {
      "image/png": "[encoded data removed]",
      "text/plain": [
       "<Figure size 576x360 with 1 Axes>"
      ]
     },
     "metadata": {
      "needs_background": "light"
     },
     "output_type": "display_data"
    }
   ],
   "source": [
    "select_k_best = sklearn.feature_selection.SelectKBest(\n",
    "    sklearn.feature_selection.chi2,\n",
    "    k=10\n",
    ")\n",
    "select_k_best.fit(doc_term_matrix, y_train)\n",
    "idx, = np.where( select_k_best.get_support() )\n",
    "\n",
    "fig,ax = plt.subplots(figsize=(8,5))\n",
    "stats_df[vocabulary[idx]].boxplot(ax=ax)\n",
    "ax.set_xticklabels(vocabulary[idx], rotation=45, ha=\"right\")\n",
    "ax.grid(False)\n",
    "ax.set_title(f\"Distributions of the {len(idx)} SelectKBest Features\")\n",
    "plt.show()"
   ]
  },
  {
   "cell_type": "markdown",
   "id": "6cc40890",
   "metadata": {},
   "source": [
    "# Models\n",
    "\n",
    "We want to create a predictive model for detecting spam using [`LogisticRegression`](https://scikit-learn.org/stable/modules/generated/sklearn.linear_model.LogisticRegression.html). By leveraging [`Piplelines`](https://scikit-learn.org/stable/modules/generated/sklearn.pipeline.Pipeline.html) and the [`make_pipeline`](https://scikit-learn.org/stable/modules/generated/sklearn.pipeline.make_pipeline.html#sklearn.pipeline.make_pipeline) function, we can combine the `CountVectorizer` and `SelectKBest` transformers, along with the `LogisticRegression` classifier, into a single model."
   ]
  },
  {
   "cell_type": "markdown",
   "id": "309e6c09",
   "metadata": {},
   "source": [
    "## Model 1\n",
    "\n",
    "Our basic model will consist of just a `CountVectorizer` transformer fed into the `LogisticRegression` classifier. We set the `lowercase=False` so that the `CountVectorizer` operates on the raw text."
   ]
  },
  {
   "cell_type": "code",
   "execution_count": 9,
   "id": "a696ffdc",
   "metadata": {},
   "outputs": [
    {
     "name": "stdout",
     "output_type": "stream",
     "text": [
      "Pipeline(steps=[('countvectorizer', CountVectorizer(lowercase=False)),\n",
      "                ('logisticregression', LogisticRegression())])\n"
     ]
    },
    {
     "data": {
      "text/html": [
       "<div>\n",
       "<style scoped>\n",
       "    .dataframe tbody tr th:only-of-type {\n",
       "        vertical-align: middle;\n",
       "    }\n",
       "\n",
       "    .dataframe tbody tr th {\n",
       "        vertical-align: top;\n",
       "    }\n",
       "\n",
       "    .dataframe thead th {\n",
       "        text-align: right;\n",
       "    }\n",
       "</style>\n",
       "<table border=\"1\" class=\"dataframe\">\n",
       "  <thead>\n",
       "    <tr style=\"text-align: right;\">\n",
       "      <th></th>\n",
       "      <th>test</th>\n",
       "      <th>train</th>\n",
       "    </tr>\n",
       "  </thead>\n",
       "  <tbody>\n",
       "    <tr>\n",
       "      <th>accuracy</th>\n",
       "      <td>0.979422</td>\n",
       "      <td>0.998617</td>\n",
       "    </tr>\n",
       "    <tr>\n",
       "      <th>precision</th>\n",
       "      <td>0.985946</td>\n",
       "      <td>1.000000</td>\n",
       "    </tr>\n",
       "    <tr>\n",
       "      <th>recall</th>\n",
       "      <td>0.858929</td>\n",
       "      <td>0.989683</td>\n",
       "    </tr>\n",
       "    <tr>\n",
       "      <th>f1</th>\n",
       "      <td>0.917404</td>\n",
       "      <td>0.994814</td>\n",
       "    </tr>\n",
       "    <tr>\n",
       "      <th>roc_auc</th>\n",
       "      <td>0.991446</td>\n",
       "      <td>0.999869</td>\n",
       "    </tr>\n",
       "  </tbody>\n",
       "</table>\n",
       "</div>"
      ],
      "text/plain": [
       "               test     train\n",
       "accuracy   0.979422  0.998617\n",
       "precision  0.985946  1.000000\n",
       "recall     0.858929  0.989683\n",
       "f1         0.917404  0.994814\n",
       "roc_auc    0.991446  0.999869"
      ]
     },
     "metadata": {},
     "output_type": "display_data"
    }
   ],
   "source": [
    "classifier = sklearn.pipeline.make_pipeline(\n",
    "    sklearn.feature_extraction.text.CountVectorizer(lowercase=False),\n",
    "    sklearn.linear_model.LogisticRegression()\n",
    ")\n",
    "evaluate_classifier(classifier, X_train, X_test, y_train, y_test)"
   ]
  },
  {
   "cell_type": "markdown",
   "id": "1d61dd3f",
   "metadata": {},
   "source": [
    "## Model 2\n",
    "\n",
    "For our second model, we will use the `CountVectorizer` to extract single word terms, as well as bigrams and trigrams."
   ]
  },
  {
   "cell_type": "code",
   "execution_count": 10,
   "id": "42d4e593",
   "metadata": {},
   "outputs": [
    {
     "name": "stdout",
     "output_type": "stream",
     "text": [
      "Pipeline(steps=[('countvectorizer',\n",
      "                 CountVectorizer(lowercase=False, ngram_range=(1, 3))),\n",
      "                ('logisticregression', LogisticRegression())])\n"
     ]
    },
    {
     "data": {
      "text/html": [
       "<div>\n",
       "<style scoped>\n",
       "    .dataframe tbody tr th:only-of-type {\n",
       "        vertical-align: middle;\n",
       "    }\n",
       "\n",
       "    .dataframe tbody tr th {\n",
       "        vertical-align: top;\n",
       "    }\n",
       "\n",
       "    .dataframe thead th {\n",
       "        text-align: right;\n",
       "    }\n",
       "</style>\n",
       "<table border=\"1\" class=\"dataframe\">\n",
       "  <thead>\n",
       "    <tr style=\"text-align: right;\">\n",
       "      <th></th>\n",
       "      <th>test</th>\n",
       "      <th>train</th>\n",
       "    </tr>\n",
       "  </thead>\n",
       "  <tbody>\n",
       "    <tr>\n",
       "      <th>accuracy</th>\n",
       "      <td>0.975116</td>\n",
       "      <td>0.999521</td>\n",
       "    </tr>\n",
       "    <tr>\n",
       "      <th>precision</th>\n",
       "      <td>0.998000</td>\n",
       "      <td>1.000000</td>\n",
       "    </tr>\n",
       "    <tr>\n",
       "      <th>recall</th>\n",
       "      <td>0.816071</td>\n",
       "      <td>0.996429</td>\n",
       "    </tr>\n",
       "    <tr>\n",
       "      <th>f1</th>\n",
       "      <td>0.896778</td>\n",
       "      <td>0.998211</td>\n",
       "    </tr>\n",
       "    <tr>\n",
       "      <th>roc_auc</th>\n",
       "      <td>0.990414</td>\n",
       "      <td>0.999945</td>\n",
       "    </tr>\n",
       "  </tbody>\n",
       "</table>\n",
       "</div>"
      ],
      "text/plain": [
       "               test     train\n",
       "accuracy   0.975116  0.999521\n",
       "precision  0.998000  1.000000\n",
       "recall     0.816071  0.996429\n",
       "f1         0.896778  0.998211\n",
       "roc_auc    0.990414  0.999945"
      ]
     },
     "metadata": {},
     "output_type": "display_data"
    }
   ],
   "source": [
    "classifier = sklearn.pipeline.make_pipeline(\n",
    "    sklearn.feature_extraction.text.CountVectorizer(\n",
    "        lowercase=False,\n",
    "        ngram_range=(1,3)\n",
    "    ),\n",
    "    sklearn.linear_model.LogisticRegression()\n",
    ")\n",
    "evaluate_classifier(classifier, X_train, X_test, y_train, y_test)"
   ]
  },
  {
   "cell_type": "markdown",
   "id": "240d9ebf",
   "metadata": {},
   "source": [
    "## Model 3\n",
    "\n",
    "Our next model will include the `SelectKBest` transformer to extract the top 100 features (i.e., words, bigrams, and trigrams) according to the chi-square test statistic."
   ]
  },
  {
   "cell_type": "code",
   "execution_count": 11,
   "id": "c1ad3c85",
   "metadata": {},
   "outputs": [
    {
     "name": "stdout",
     "output_type": "stream",
     "text": [
      "Pipeline(steps=[('countvectorizer',\n",
      "                 CountVectorizer(lowercase=False, ngram_range=(1, 3))),\n",
      "                ('selectkbest',\n",
      "                 SelectKBest(k=100,\n",
      "                             score_func=<function chi2 at 0x2aaaf149d268>)),\n",
      "                ('logisticregression', LogisticRegression())])\n"
     ]
    },
    {
     "data": {
      "text/html": [
       "<div>\n",
       "<style scoped>\n",
       "    .dataframe tbody tr th:only-of-type {\n",
       "        vertical-align: middle;\n",
       "    }\n",
       "\n",
       "    .dataframe tbody tr th {\n",
       "        vertical-align: top;\n",
       "    }\n",
       "\n",
       "    .dataframe thead th {\n",
       "        text-align: right;\n",
       "    }\n",
       "</style>\n",
       "<table border=\"1\" class=\"dataframe\">\n",
       "  <thead>\n",
       "    <tr style=\"text-align: right;\">\n",
       "      <th></th>\n",
       "      <th>test</th>\n",
       "      <th>train</th>\n",
       "    </tr>\n",
       "  </thead>\n",
       "  <tbody>\n",
       "    <tr>\n",
       "      <th>accuracy</th>\n",
       "      <td>0.971284</td>\n",
       "      <td>0.976549</td>\n",
       "    </tr>\n",
       "    <tr>\n",
       "      <th>precision</th>\n",
       "      <td>0.969803</td>\n",
       "      <td>0.973358</td>\n",
       "    </tr>\n",
       "    <tr>\n",
       "      <th>recall</th>\n",
       "      <td>0.812500</td>\n",
       "      <td>0.848214</td>\n",
       "    </tr>\n",
       "    <tr>\n",
       "      <th>f1</th>\n",
       "      <td>0.883229</td>\n",
       "      <td>0.906472</td>\n",
       "    </tr>\n",
       "    <tr>\n",
       "      <th>roc_auc</th>\n",
       "      <td>0.976611</td>\n",
       "      <td>0.980393</td>\n",
       "    </tr>\n",
       "  </tbody>\n",
       "</table>\n",
       "</div>"
      ],
      "text/plain": [
       "               test     train\n",
       "accuracy   0.971284  0.976549\n",
       "precision  0.969803  0.973358\n",
       "recall     0.812500  0.848214\n",
       "f1         0.883229  0.906472\n",
       "roc_auc    0.976611  0.980393"
      ]
     },
     "metadata": {},
     "output_type": "display_data"
    }
   ],
   "source": [
    "classifier = sklearn.pipeline.make_pipeline(\n",
    "    sklearn.feature_extraction.text.CountVectorizer(\n",
    "        lowercase=False,\n",
    "        ngram_range=(1,3)\n",
    "    ),\n",
    "    sklearn.feature_selection.SelectKBest(\n",
    "        sklearn.feature_selection.chi2,\n",
    "        k=100\n",
    "    ),\n",
    "    sklearn.linear_model.LogisticRegression()\n",
    ")\n",
    "evaluate_classifier(classifier, X_train, X_test, y_train, y_test)"
   ]
  },
  {
   "cell_type": "markdown",
   "id": "bb094d11",
   "metadata": {},
   "source": [
    "## Model 4\n",
    "\n",
    "Our final model will employ some natural language processing to clean the text before extracting terms for the document-term matrix. We will allow the `CountVectorizer` to transform the text to lowercase. We will also use the [WordNetLemmatizer](https://www.nltk.org/_modules/nltk/stem/wordnet.html) to perform [lemmatization](https://en.wikipedia.org/wiki/Lemmatisation) on the text (i.e., converting `change`, `changing`, `changes`, `changed`, and `changer` all to `change`).\n",
    "\n",
    "First we need to setup nltk..."
   ]
  },
  {
   "cell_type": "code",
   "execution_count": 12,
   "id": "803ee502",
   "metadata": {},
   "outputs": [
    {
     "name": "stderr",
     "output_type": "stream",
     "text": [
      "[nltk_data] Downloading package punkt to ../nltk_data...\n",
      "[nltk_data]   Unzipping tokenizers/punkt.zip.\n",
      "[nltk_data] Downloading package wordnet to ../nltk_data...\n",
      "[nltk_data]   Unzipping corpora/wordnet.zip.\n",
      "[nltk_data] Downloading package omw-1.4 to ../nltk_data...\n",
      "[nltk_data]   Unzipping corpora/omw-1.4.zip.\n"
     ]
    }
   ],
   "source": [
    "import nltk\n",
    "import nltk.stem\n",
    "nltk.data.path.append(\"../nltk_data\")\n",
    "\n",
    "try:\n",
    "    nltk.data.find(\"tokenizers/punkt\")\n",
    "except LookupError as le:\n",
    "    nltk.download(\"punkt\", download_dir=\"../nltk_data\")\n",
    "    \n",
    "try:\n",
    "    nltk.data.find(\"corpora/wordnet\")\n",
    "except LookupError as le:\n",
    "    nltk.download(\"wordnet\", download_dir=\"../nltk_data\")\n",
    "    \n",
    "try:\n",
    "    nltk.data.find(\"corpora/omw-1.4\")\n",
    "except LookupError as le:\n",
    "    nltk.download(\"omw-1.4\", download_dir=\"../nltk_data\")"
   ]
  },
  {
   "cell_type": "markdown",
   "id": "90396350",
   "metadata": {},
   "source": [
    "Now we can build our model."
   ]
  },
  {
   "cell_type": "code",
   "execution_count": 13,
   "id": "4042e541",
   "metadata": {
    "scrolled": false
   },
   "outputs": [
    {
     "name": "stdout",
     "output_type": "stream",
     "text": [
      "Pipeline(steps=[('countvectorizer',\n",
      "                 CountVectorizer(ngram_range=(1, 3),\n",
      "                                 tokenizer=<__main__.LemmaTokenizer object at 0x2aaaf49cf668>)),\n",
      "                ('selectkbest',\n",
      "                 SelectKBest(k=100,\n",
      "                             score_func=<function chi2 at 0x2aaaf149d268>)),\n",
      "                ('logisticregression', LogisticRegression())])\n"
     ]
    },
    {
     "data": {
      "text/html": [
       "<div>\n",
       "<style scoped>\n",
       "    .dataframe tbody tr th:only-of-type {\n",
       "        vertical-align: middle;\n",
       "    }\n",
       "\n",
       "    .dataframe tbody tr th {\n",
       "        vertical-align: top;\n",
       "    }\n",
       "\n",
       "    .dataframe thead th {\n",
       "        text-align: right;\n",
       "    }\n",
       "</style>\n",
       "<table border=\"1\" class=\"dataframe\">\n",
       "  <thead>\n",
       "    <tr style=\"text-align: right;\">\n",
       "      <th></th>\n",
       "      <th>test</th>\n",
       "      <th>train</th>\n",
       "    </tr>\n",
       "  </thead>\n",
       "  <tbody>\n",
       "    <tr>\n",
       "      <th>accuracy</th>\n",
       "      <td>0.968412</td>\n",
       "      <td>0.976576</td>\n",
       "    </tr>\n",
       "    <tr>\n",
       "      <th>precision</th>\n",
       "      <td>0.947506</td>\n",
       "      <td>0.960381</td>\n",
       "    </tr>\n",
       "    <tr>\n",
       "      <th>recall</th>\n",
       "      <td>0.810714</td>\n",
       "      <td>0.860714</td>\n",
       "    </tr>\n",
       "    <tr>\n",
       "      <th>f1</th>\n",
       "      <td>0.872347</td>\n",
       "      <td>0.907806</td>\n",
       "    </tr>\n",
       "    <tr>\n",
       "      <th>roc_auc</th>\n",
       "      <td>0.979562</td>\n",
       "      <td>0.984663</td>\n",
       "    </tr>\n",
       "  </tbody>\n",
       "</table>\n",
       "</div>"
      ],
      "text/plain": [
       "               test     train\n",
       "accuracy   0.968412  0.976576\n",
       "precision  0.947506  0.960381\n",
       "recall     0.810714  0.860714\n",
       "f1         0.872347  0.907806\n",
       "roc_auc    0.979562  0.984663"
      ]
     },
     "metadata": {},
     "output_type": "display_data"
    }
   ],
   "source": [
    "class LemmaTokenizer(object):\n",
    "    def __init__(self):\n",
    "        self.lemmatizer = nltk.stem.WordNetLemmatizer()\n",
    "    def __call__(self, text):\n",
    "        return [\n",
    "            self.lemmatizer.lemmatize(word)\n",
    "            for word in nltk.word_tokenize(text)\n",
    "        ]\n",
    "    \n",
    "classifier = sklearn.pipeline.make_pipeline(\n",
    "    sklearn.feature_extraction.text.CountVectorizer(\n",
    "        tokenizer=LemmaTokenizer(),\n",
    "        lowercase=True,\n",
    "        ngram_range=(1,3)\n",
    "    ),\n",
    "    sklearn.feature_selection.SelectKBest(\n",
    "        sklearn.feature_selection.chi2,\n",
    "        k=100\n",
    "    ),\n",
    "    sklearn.linear_model.LogisticRegression()\n",
    ")\n",
    "evaluate_classifier(classifier, X_train, X_test, y_train, y_test)"
   ]
  }
 ],
 "metadata": {
  "kernelspec": {
   "display_name": "Python 3",
   "language": "python",
   "name": "python3"
  },
  "language_info": {
   "codemirror_mode": {
    "name": "ipython",
    "version": 3
   },
   "file_extension": ".py",
   "mimetype": "text/x-python",
   "name": "python",
   "nbconvert_exporter": "python",
   "pygments_lexer": "ipython3",
   "version": "3.6.8"
  }
 },
 "nbformat": 4,
 "nbformat_minor": 5
}
